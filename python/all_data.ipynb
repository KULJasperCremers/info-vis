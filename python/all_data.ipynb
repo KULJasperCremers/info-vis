{
 "cells": [
  {
   "cell_type": "code",
   "execution_count": null,
   "metadata": {},
   "outputs": [],
   "source": [
    "import pandas as pd\n",
    "import matplotlib.pyplot as plt\n",
    "import seaborn as sns\n",
    "import numpy as np"
   ]
  },
  {
   "cell_type": "code",
   "execution_count": null,
   "metadata": {},
   "outputs": [],
   "source": [
    "df = pd.read_json(\"../json/ess_data_all.json\")"
   ]
  },
  {
   "cell_type": "code",
   "execution_count": null,
   "metadata": {},
   "outputs": [],
   "source": [
    "df.head(3)"
   ]
  },
  {
   "cell_type": "code",
   "execution_count": null,
   "metadata": {},
   "outputs": [],
   "source": [
    "country_df = df[\"BE\"]"
   ]
  },
  {
   "cell_type": "code",
   "execution_count": null,
   "metadata": {},
   "outputs": [],
   "source": [
    "country_df.head(3)"
   ]
  },
  {
   "cell_type": "code",
   "execution_count": null,
   "metadata": {},
   "outputs": [],
   "source": [
    "election_data = country_df.election_data\n",
    "leaning_data = country_df.leaning_data\n",
    "\n",
    "last_two_election_years = sorted(election_data.keys())[-2:]\n",
    "earliest_election_data = election_data[last_two_election_years[0]] \n",
    "latest_election_data = election_data[last_two_election_years[1]]\n"
   ]
  },
  {
   "cell_type": "code",
   "execution_count": null,
   "metadata": {},
   "outputs": [],
   "source": [
    "print(last_two_election_years)"
   ]
  },
  {
   "cell_type": "code",
   "execution_count": null,
   "metadata": {},
   "outputs": [],
   "source": [
    "print(earliest_election_data)\n",
    "print(latest_election_data)\n",
    "print(leaning_data)"
   ]
  },
  {
   "cell_type": "code",
   "execution_count": null,
   "metadata": {},
   "outputs": [],
   "source": [
    "earliest_leaning_percentages = {leaning: sum(earliest_election_data.get(party, 0) for party in parties) for leaning, parties in leaning_data.items()}\n",
    "latest_leaning_percentages = {leaning: sum(latest_election_data.get(party, 0) for party in parties) for leaning, parties in leaning_data.items()}"
   ]
  },
  {
   "cell_type": "code",
   "execution_count": null,
   "metadata": {},
   "outputs": [],
   "source": [
    "print(earliest_leaning_percentages)\n",
    "print(latest_leaning_percentages)"
   ]
  },
  {
   "cell_type": "code",
   "execution_count": null,
   "metadata": {},
   "outputs": [],
   "source": [
    "leaning_growth = {leaning: latest_leaning_percentages[leaning] - earliest_leaning_percentages[leaning] for leaning in leaning_data.keys()}\n",
    "\n",
    "leanings = list(leaning_growth.keys())\n",
    "growth = list(leaning_growth.values())\n",
    "\n",
    "# Define colors for each leaning\n",
    "colors = {'far-left': 'red', 'left': 'orange', 'center-left': 'yellow', 'center': 'lightgreen', 'center-right': 'green', 'right': 'blue', 'far-right': 'purple'}\n",
    "\n",
    "# Create a bar plot with colors for each leaning\n",
    "plt.figure(figsize=(10, 6))\n",
    "for leaning, growth in leaning_growth.items():\n",
    "    plt.bar(leaning, growth, color=colors[leaning])\n",
    "\n",
    "# Add a legend\n",
    "handles = [plt.Rectangle((0,0),1,1, color=colors[label]) for label in leanings]\n",
    "plt.legend(handles, leanings)\n",
    "\n",
    "plt.xlabel('Leaning')\n",
    "plt.ylabel('Growth')\n",
    "plt.title('Growth of Each Leaning')\n",
    "plt.show()"
   ]
  },
  {
   "cell_type": "code",
   "execution_count": null,
   "metadata": {},
   "outputs": [],
   "source": [
    "ess_data = country_df.ess_data"
   ]
  },
  {
   "cell_type": "code",
   "execution_count": null,
   "metadata": {},
   "outputs": [],
   "source": [
    "ess_data.keys()"
   ]
  },
  {
   "cell_type": "code",
   "execution_count": null,
   "metadata": {},
   "outputs": [],
   "source": [
    "between_years = [year for year in ess_data.keys() if int(last_two_election_years[0]) < int(year) < int(last_two_election_years[1])]\n"
   ]
  },
  {
   "cell_type": "code",
   "execution_count": null,
   "metadata": {},
   "outputs": [],
   "source": [
    "between_years"
   ]
  },
  {
   "cell_type": "code",
   "execution_count": null,
   "metadata": {},
   "outputs": [],
   "source": [
    "aggregated_data = {\n",
    "    \"far-left\": \n",
    "        {\n",
    "            \"happy\": [],\n",
    "            \"satisfaction\": [],\n",
    "            \"trust_country\": [],\n",
    "            \"trust_eu\": []\n",
    "        },\n",
    "    \"left\":         \n",
    "        {\n",
    "            \"happy\": [],\n",
    "            \"satisfaction\": [],\n",
    "            \"trust_country\": [],\n",
    "            \"trust_eu\": []\n",
    "        },\n",
    "    \"center-left\":      \n",
    "        {\n",
    "            \"happy\": [],\n",
    "            \"satisfaction\": [],\n",
    "            \"trust_country\": [],\n",
    "            \"trust_eu\": []\n",
    "        },\n",
    "    \"center\":\n",
    "        {\n",
    "            \"happy\": [],\n",
    "            \"satisfaction\": [],\n",
    "            \"trust_country\": [],\n",
    "            \"trust_eu\": []\n",
    "        },\n",
    "    \"center-right\":\n",
    "        {\n",
    "            \"happy\": [],\n",
    "            \"satisfaction\": [],\n",
    "            \"trust_country\": [],\n",
    "            \"trust_eu\": []\n",
    "        },\n",
    "    \"right\":\n",
    "        {\n",
    "            \"happy\": [],\n",
    "            \"satisfaction\": [],\n",
    "            \"trust_country\": [],\n",
    "            \"trust_eu\": []\n",
    "        },\n",
    "    \"far-right\":\n",
    "        {\n",
    "            \"happy\": [],\n",
    "            \"satisfaction\": [],\n",
    "            \"trust_country\": [],\n",
    "            \"trust_eu\": []\n",
    "        },\n",
    "}\n",
    "\n",
    "for year in between_years:\n",
    "    for leaning, happy, satisfaction, trust_country, trust_eu in zip(ess_data[year]['leaning'], ess_data[year]['happy'], ess_data[year]['satisfaction'], ess_data[year]['trust_country'], ess_data[year]['trust_eu']):\n",
    "        aggregated_data[leaning]['happy'].append(happy)\n",
    "        aggregated_data[leaning]['satisfaction'].append(satisfaction)\n",
    "        aggregated_data[leaning]['trust_country'].append(trust_country)\n",
    "        aggregated_data[leaning]['trust_eu'].append(trust_eu)"
   ]
  },
  {
   "cell_type": "code",
   "execution_count": null,
   "metadata": {},
   "outputs": [],
   "source": [
    "for col in aggregated_data['far-right']:\n",
    "    print(len(aggregated_data['far-left'][col]))"
   ]
  },
  {
   "cell_type": "code",
   "execution_count": null,
   "metadata": {},
   "outputs": [],
   "source": []
  },
  {
   "cell_type": "code",
   "execution_count": null,
   "metadata": {},
   "outputs": [],
   "source": [
    "# Initialize an empty list to hold countries that meet the criteria\n",
    "countries_with_surveys_between_elections = []\n",
    "\n",
    "# Iterate over each country in the DataFrame\n",
    "for country_code in df.columns:\n",
    "    # Get the election years and survey years\n",
    "    election_years = sorted([int(year) for year in df[country_code]['election_data'].keys()])\n",
    "    survey_years = sorted([int(year) for year in df[country_code]['ess_data'].keys()])\n",
    "\n",
    "    # Check if there are survey years in between each pair of consecutive election years\n",
    "    for i in range(len(election_years) - 1):\n",
    "        if any(election_years[i] < survey_year < election_years[i + 1] for survey_year in survey_years):\n",
    "            # If there are, add the country to the list of countries that meet the criteria\n",
    "            countries_with_surveys_between_elections.append(country_code)\n",
    "            break\n",
    "\n",
    "# Print the countries that meet the criteria\n",
    "print(countries_with_surveys_between_elections)"
   ]
  },
  {
   "cell_type": "code",
   "execution_count": null,
   "metadata": {},
   "outputs": [],
   "source": []
  },
  {
   "cell_type": "code",
   "execution_count": 98,
   "metadata": {},
   "outputs": [],
   "source": [
    "# # Get the election data for Belgium\n",
    "# belgium_election_data = df['BE']['election_data']\n",
    "\n",
    "# # Get the sorted list of election years\n",
    "# election_years = sorted(belgium_election_data.keys())\n",
    "\n",
    "# # Iterate over each pair of consecutive elections\n",
    "# for i in range(len(election_years) - 1):\n",
    "#     # Get the election data for the two elections\n",
    "#     earliest_election_data = belgium_election_data[election_years[i]]\n",
    "#     latest_election_data = belgium_election_data[election_years[i + 1]]\n",
    "\n",
    "#     # Calculate the leaning percentages for the two elections\n",
    "#     earliest_leaning_percentages = {leaning: sum(earliest_election_data.get(party, 0) for party in parties) for leaning, parties in df['BE']['leaning_data'].items()}\n",
    "#     latest_leaning_percentages = {leaning: sum(latest_election_data.get(party, 0) for party in parties) for leaning, parties in df['BE']['leaning_data'].items()}\n",
    "\n",
    "#     # Calculate the growth of each leaning\n",
    "#     leaning_growth = {leaning: latest_leaning_percentages[leaning] - earliest_leaning_percentages[leaning] for leaning in df['BE']['leaning_data'].keys()}\n",
    "\n",
    "#     # Create a bar plot with colors for each leaning\n",
    "#     plt.figure(figsize=(10, 6))\n",
    "#     for leaning, growth in leaning_growth.items():\n",
    "#         plt.bar(leaning, growth, color=colors.get(leaning, 'black'))\n",
    "\n",
    "#     # Add a legend\n",
    "#     handles = [plt.Rectangle((0,0),1,1, color=colors.get(label, 'black')) for label in leaning_growth.keys()]\n",
    "#     plt.legend(handles, leaning_growth.keys())\n",
    "\n",
    "#     plt.xlabel('Leaning')\n",
    "#     plt.ylabel('Growth')\n",
    "#     plt.title(f'Growth of Each Leaning from {election_years[i]} to {election_years[i + 1]}')\n",
    "#     plt.show()"
   ]
  },
  {
   "cell_type": "code",
   "execution_count": 100,
   "metadata": {},
   "outputs": [],
   "source": [
    "# Get the election data for Belgium\n",
    "belgium_election_data = df['BE']['election_data']\n",
    "\n",
    "# Initialize a dictionary to hold the growth data for each pair of elections\n",
    "growth_data_between_elections = {}\n",
    "\n",
    "# Iterate over each pair of consecutive elections\n",
    "for i in range(len(election_years) - 1):\n",
    "    # Get the election data for the two elections\n",
    "    earliest_election_data = belgium_election_data[election_years[i]]\n",
    "    latest_election_data = belgium_election_data[election_years[i + 1]]\n",
    "\n",
    "    # Calculate the leaning percentages for the two elections\n",
    "    earliest_leaning_percentages = {leaning: sum(earliest_election_data.get(party, 0) for party in parties) for leaning, parties in df['BE']['leaning_data'].items()}\n",
    "    latest_leaning_percentages = {leaning: sum(latest_election_data.get(party, 0) for party in parties) for leaning, parties in df['BE']['leaning_data'].items()}\n",
    "\n",
    "    # Calculate the growth of each leaning\n",
    "    leaning_growth = {leaning: latest_leaning_percentages[leaning] - earliest_leaning_percentages[leaning] for leaning in df['BE']['leaning_data'].keys()}\n",
    "\n",
    "    # Add the growth data for this pair of elections to the overall dictionary\n",
    "    growth_data_between_elections[f'{election_years[i]} to {election_years[i + 1]}'] = leaning_growth"
   ]
  },
  {
   "cell_type": "code",
   "execution_count": 101,
   "metadata": {},
   "outputs": [
    {
     "data": {
      "text/plain": [
       "dict_keys(['2003 to 2007', '2007 to 2010', '2010 to 2014', '2014 to 2019'])"
      ]
     },
     "execution_count": 101,
     "metadata": {},
     "output_type": "execute_result"
    }
   ],
   "source": [
    "growth_data_between_elections.keys()"
   ]
  },
  {
   "cell_type": "code",
   "execution_count": null,
   "metadata": {},
   "outputs": [],
   "source": [
    "def aggregate_ess_data(years):\n",
    "    # Initialize a dictionary to hold the aggregated data\n",
    "    aggregated_data = {\n",
    "        \"far-left\": {\"happy\": [], \"satisfaction\": [], \"trust_country\": [], \"trust_eu\": []},\n",
    "        \"left\": {\"happy\": [], \"satisfaction\": [], \"trust_country\": [], \"trust_eu\": []},\n",
    "        \"center-left\": {\"happy\": [], \"satisfaction\": [], \"trust_country\": [], \"trust_eu\": []},\n",
    "        \"center\": {\"happy\": [], \"satisfaction\": [], \"trust_country\": [], \"trust_eu\": []},\n",
    "        \"center-right\": {\"happy\": [], \"satisfaction\": [], \"trust_country\": [], \"trust_eu\": []},\n",
    "        \"right\": {\"happy\": [], \"satisfaction\": [], \"trust_country\": [], \"trust_eu\": []},\n",
    "        \"far-right\": {\"happy\": [], \"satisfaction\": [], \"trust_country\": [], \"trust_eu\": []},\n",
    "    }\n",
    "\n",
    "    # Aggregate the ESS data for the given years\n",
    "    for year in years:\n",
    "        for leaning, happy, satisfaction, trust_country, trust_eu in zip(ess_data[str(year)]['leaning'], ess_data[str(year)]['happy'], ess_data[str(year)]['satisfaction'], ess_data[str(year)]['trust_country'], ess_data[str(year)]['trust_eu']):\n",
    "            aggregated_data[leaning]['happy'].append(happy)\n",
    "            aggregated_data[leaning]['satisfaction'].append(satisfaction)\n",
    "            aggregated_data[leaning]['trust_country'].append(trust_country)\n",
    "            aggregated_data[leaning]['trust_eu'].append(trust_eu)\n",
    "\n",
    "    return aggregated_data"
   ]
  },
  {
   "cell_type": "code",
   "execution_count": null,
   "metadata": {},
   "outputs": [],
   "source": [
    "# Get the first and last election years\n",
    "first_election_year = int(election_years[0])\n",
    "last_election_year = int(election_years[-1])\n",
    "\n",
    "# Get the ESS years\n",
    "ess_years = [int(year) for year in ess_data.keys()]\n",
    "\n",
    "# Check if there is ESS data before the first election\n",
    "before_years = [year for year in ess_years if year < first_election_year]\n",
    "if before_years:\n",
    "    # If there is, aggregate the ESS data for these years\n",
    "    aggregated_data = aggregate_ess_data(before_years)\n",
    "    aggregated_data_between_elections[f'Before {first_election_year}'] = aggregated_data\n",
    "\n",
    "# Iterate over each pair of consecutive elections\n",
    "for i in range(len(election_years) - 1):\n",
    "    # Get the years between the two elections\n",
    "    between_years = [year for year in ess_years if int(election_years[i]) < year < int(election_years[i + 1])]\n",
    "    if between_years:\n",
    "        # If there are, aggregate the ESS data for these years\n",
    "        aggregated_data = aggregate_ess_data(between_years)\n",
    "        aggregated_data_between_elections[f'{election_years[i]} to {election_years[i + 1]}'] = aggregated_data\n",
    "\n",
    "# Check if there is ESS data after the last election\n",
    "after_years = [year for year in ess_years if year > last_election_year]\n",
    "if after_years:\n",
    "    # If there is, aggregate the ESS data for these years\n",
    "    aggregated_data = aggregate_ess_data(after_years)\n",
    "    aggregated_data_between_elections[f'After {last_election_year}'] = aggregated_data"
   ]
  },
  {
   "cell_type": "code",
   "execution_count": 103,
   "metadata": {},
   "outputs": [
    {
     "data": {
      "text/plain": [
       "[2020, 2018, 2016, 2014, 2012, 2010, 2008, 2006, 2004]"
      ]
     },
     "execution_count": 103,
     "metadata": {},
     "output_type": "execute_result"
    }
   ],
   "source": [
    "ess_years"
   ]
  },
  {
   "cell_type": "code",
   "execution_count": 102,
   "metadata": {},
   "outputs": [
    {
     "data": {
      "text/plain": [
       "dict_keys(['After 2019', '2003 to 2007', '2007 to 2010', '2010 to 2014', '2014 to 2019'])"
      ]
     },
     "execution_count": 102,
     "metadata": {},
     "output_type": "execute_result"
    }
   ],
   "source": [
    "aggregated_data_between_elections.keys()"
   ]
  }
 ],
 "metadata": {
  "kernelspec": {
   "display_name": "Python 3",
   "language": "python",
   "name": "python3"
  },
  "language_info": {
   "codemirror_mode": {
    "name": "ipython",
    "version": 3
   },
   "file_extension": ".py",
   "mimetype": "text/x-python",
   "name": "python",
   "nbconvert_exporter": "python",
   "pygments_lexer": "ipython3",
   "version": "3.10.12"
  }
 },
 "nbformat": 4,
 "nbformat_minor": 2
}
