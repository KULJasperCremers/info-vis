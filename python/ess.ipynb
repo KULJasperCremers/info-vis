{
 "cells": [
  {
   "cell_type": "code",
   "execution_count": 1,
   "metadata": {},
   "outputs": [],
   "source": [
    "import pandas as pd\n",
    "import json\n",
    "import numpy as np"
   ]
  },
  {
   "cell_type": "code",
   "execution_count": 2,
   "metadata": {},
   "outputs": [],
   "source": [
    "df = pd.read_csv('ess/ess.csv')\n",
    "# print(df.head())"
   ]
  },
  {
   "cell_type": "code",
   "execution_count": 3,
   "metadata": {},
   "outputs": [],
   "source": [
    "# Define the columns to clean\n",
    "columns_to_clean = ['lrscale', 'stfdem', 'stfeco', 'stfedu', 'stfgov', 'stfhlth', 'stflife', 'trstep', 'trstplt', 'trstprl', 'trstprt', 'atchctr', 'atcherp', 'happy']\n",
    "\n",
    "# Define the values to remove\n",
    "values_to_remove = [77, 88, 99, '*']\n",
    "\n",
    "# Loop over the columns and remove the values\n",
    "for column in columns_to_clean:\n",
    "    df = df[~df[column].isin(values_to_remove)]"
   ]
  },
  {
   "cell_type": "code",
   "execution_count": 5,
   "metadata": {},
   "outputs": [
    {
     "name": "stdout",
     "output_type": "stream",
     "text": [
      "(65027, 7)\n",
      "   year cntry       leaning  happy  satisfaction  trust_country  trust_eu\n",
      "0  2006    BE         right      9           7.0            5.0         8\n",
      "1  2006    BE  center right      8           6.0            4.0         6\n",
      "2  2006    BE        center      8           7.0            4.0         3\n",
      "3  2006    BE        center      9           7.0            2.0         1\n",
      "4  2006    BE        center      8           6.0            2.0         5\n"
     ]
    }
   ],
   "source": [
    "# Define bins and labels\n",
    "bins = [-1, 0, 2, 4, 5, 7, 9, 10]\n",
    "labels = ['far left', 'left', 'center left', 'center', 'center right', 'right', 'far right']\n",
    "\n",
    "# Create lrscale_category column based on bins and labels\n",
    "df['leaning'] = pd.cut(df['lrscale'], bins=bins, labels=labels)\n",
    "\n",
    "# year\n",
    "version_year_dict = {3: \"2006\", 4: \"2008\", 5: \"2010\", 6: \"2012\", 7: \"2014\", 8: \"2016\", 9: \"2018\", 10: \"2020\"}\n",
    "df['year'] = df['name'].str.extract('(\\d+)')[0].astype(int).map(version_year_dict)\n",
    "\n",
    "# satisfaction\n",
    "satisfaction_columns = ['stfdem', 'stfeco', 'stfedu', 'stfgov', 'stfhlth', 'stflife']\n",
    "df['satisfaction'] = np.round(df[satisfaction_columns].mean(axis=1),0)\n",
    "\n",
    "# trust country\n",
    "trust_columns = ['trstplt', 'trstprl', 'trstprt']\n",
    "df['trust_country'] = np.round(df[trust_columns].mean(axis=1),0)\n",
    "\n",
    "# trust eu\n",
    "df['trust_eu'] = df['trstep']\n",
    "\n",
    "# # attachment country\n",
    "# df['attachment_country'] = df['atchctr']\n",
    "\n",
    "# # attachment eu\n",
    "# df['attachment_eu'] = df['atcherp']\n",
    "\n",
    "# new_df = df[['year','cntry','leaning','happy','satisfaction','trust_country','trust_eu','attachment_country', 'attachment_eu']]\n",
    "new_df = df[['year','cntry','leaning','happy','satisfaction','trust_country','trust_eu']]\n",
    "\n",
    "print(new_df.shape)\n",
    "print(new_df.head())"
   ]
  },
  {
   "cell_type": "code",
   "execution_count": 6,
   "metadata": {},
   "outputs": [],
   "source": [
    "new_df.loc[new_df['cntry'] == 'GR', 'cntry'] = 'EL'"
   ]
  },
  {
   "cell_type": "code",
   "execution_count": 7,
   "metadata": {},
   "outputs": [],
   "source": [
    "with open(\"combined_data.json\") as f:\n",
    "    data = json.load(f)"
   ]
  },
  {
   "cell_type": "code",
   "execution_count": 8,
   "metadata": {},
   "outputs": [
    {
     "name": "stdout",
     "output_type": "stream",
     "text": [
      "{'election_data': {'2019': {'NVA': 16.0, 'VB': 12.0, 'PS - Belgium': 9.5, 'CDV': 8.9, 'PVDA - Belgium': 8.6, 'OVLD': 8.5, 'MR': 7.6, 'SPA': 6.7, 'Ecolo': 6.1, 'Groen': 6.0, 'CDH': 3.7, 'Other parties': 6.4}, '2014': {'NVA': 20.3, 'PS - Belgium': 11.7, 'CDV': 11.6, 'OVLD': 9.8, 'MR': 9.6, 'SPA': 8.8, 'Groen': 5.3, 'CDH': 5.0, 'VB': 3.7, 'Ecolo': 3.3, 'Other parties': 10.9}, '2010': {'NVA': 17.4, 'PS - Belgium': 13.7, 'CDV': 10.9, 'MR': 9.3, 'SPA': 9.2, 'OVLD': 8.6, 'VB': 7.8, 'CDH': 5.5, 'Ecolo': 4.8, 'Groen': 4.4, 'Other parties': 8.4}, '2007': {'CDV/NVA': 18.5, 'MR': 12.5, 'VB': 12.0, 'OVLD': 11.8, 'PS - Belgium': 10.9, 'SPA': 10.3, 'CDH': 6.1, 'Ecolo': 5.1, 'Groen': 4.0, 'Other parties': 8.8}}, 'leaning_data': {'far-left': ['PVDA - Belgium'], 'left': ['PS - Belgium', 'Ecolo', 'Groen'], 'center-left': ['SPA'], 'center': [], 'center-right': ['CDV', 'OVLD', 'MR', 'CDH', 'CDV/NVA'], 'right': ['NVA'], 'far-right': ['VB']}, 'ess_data': {}}\n"
     ]
    }
   ],
   "source": [
    "# Initialize 'ess_data' in each country\n",
    "for country in data:\n",
    "    data[country]['ess_data'] = {}\n",
    "print(data['BE'])"
   ]
  },
  {
   "cell_type": "code",
   "execution_count": 9,
   "metadata": {},
   "outputs": [],
   "source": [
    "# Iterate over the DataFrame\n",
    "for index, row in new_df.iterrows():\n",
    "    # Get country and year\n",
    "    country = row['cntry']\n",
    "    year = row['year']\n",
    "\n",
    "    # Initialize year in 'ess_data' if not already present\n",
    "    if year not in data[country]['ess_data']:\n",
    "        data[country]['ess_data'][year] = {\n",
    "            'leaning': [],\n",
    "            'happy': [],\n",
    "            'satisfaction': [],\n",
    "            'trust_country': [],\n",
    "            'trust_eu': []\n",
    "        }\n",
    "\n",
    "    # Append data to 'ess_data'\n",
    "    data[country]['ess_data'][year]['leaning'].append(row['leaning'])\n",
    "    data[country]['ess_data'][year]['happy'].append(row['happy'])\n",
    "    data[country]['ess_data'][year]['satisfaction'].append(row['satisfaction'])\n",
    "    data[country]['ess_data'][year]['trust_country'].append(row['trust_country'])\n",
    "    data[country]['ess_data'][year]['trust_eu'].append(row['trust_eu'])"
   ]
  },
  {
   "cell_type": "code",
   "execution_count": 10,
   "metadata": {},
   "outputs": [
    {
     "name": "stdout",
     "output_type": "stream",
     "text": [
      "AT 2016: 1684\n",
      "AT 2018: 2018\n",
      "\n",
      "BE 2006: 1620\n",
      "BE 2010: 1576\n",
      "BE 2014: 1647\n",
      "BE 2018: 1617\n",
      "\n",
      "DE 2008: 2246\n",
      "DE 2012: 2560\n",
      "DE 2016: 2605\n",
      "DE 2020: 7575\n",
      "\n",
      "DK 2010: 1327\n",
      "DK 2014: 1316\n",
      "DK 2018: 1326\n",
      "\n",
      "EL 2020: 2250\n",
      "\n",
      "ES 2010: 1525\n",
      "ES 2014: 1408\n",
      "ES 2018: 1239\n",
      "\n",
      "FI 2010: 1695\n",
      "FI 2014: 1893\n",
      "FI 2018: 1597\n",
      "\n",
      "FR 2006: 1758\n",
      "FR 2012: 1789\n",
      "FR 2016: 1833\n",
      "\n",
      "IE 2006: 1275\n",
      "IE 2010: 1854\n",
      "IE 2016: 1966\n",
      "IE 2020: 1290\n",
      "\n",
      "IT 2012: 708\n",
      "IT 2018: 1814\n",
      "\n",
      "\n",
      "NL 2012: 1595\n",
      "NL 2016: 1402\n",
      "NL 2020: 1263\n",
      "\n",
      "PT 2014: 1006\n",
      "PT 2018: 830\n",
      "\n",
      "SE 2010: 1164\n",
      "SE 2014: 1441\n",
      "SE 2018: 1315\n",
      "\n"
     ]
    }
   ],
   "source": [
    "for country in data:\n",
    "    for year in data[country]['ess_data']:\n",
    "        print(f\"{country} {year}: {len(data[country]['ess_data'][year]['happy'])}\")\n",
    "    print()"
   ]
  },
  {
   "cell_type": "code",
   "execution_count": 12,
   "metadata": {},
   "outputs": [],
   "source": [
    "with open('ess_data.json', 'w') as f:\n",
    "    json.dump(data, f, indent=3)"
   ]
  }
 ],
 "metadata": {
  "kernelspec": {
   "display_name": "Python 3",
   "language": "python",
   "name": "python3"
  },
  "language_info": {
   "codemirror_mode": {
    "name": "ipython",
    "version": 3
   },
   "file_extension": ".py",
   "mimetype": "text/x-python",
   "name": "python",
   "nbconvert_exporter": "python",
   "pygments_lexer": "ipython3",
   "version": "3.10.12"
  }
 },
 "nbformat": 4,
 "nbformat_minor": 2
}
